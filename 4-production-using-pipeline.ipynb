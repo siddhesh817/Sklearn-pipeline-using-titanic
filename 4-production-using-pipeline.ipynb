{
 "cells": [
  {
   "cell_type": "code",
   "execution_count": 13,
   "id": "63e0ff80-b803-4b8e-b149-97a0c9efe5ff",
   "metadata": {},
   "outputs": [],
   "source": [
    "import pickle\n",
    "import numpy as np"
   ]
  },
  {
   "cell_type": "code",
   "execution_count": 15,
   "id": "6539da26-d2ec-4f7d-93da-67771e0cd54c",
   "metadata": {},
   "outputs": [],
   "source": [
    "pipe=pickle.load(open(\"models/pipe.pkl\",\"rb\"))"
   ]
  },
  {
   "cell_type": "markdown",
   "id": "8bce8c9b-b601-4843-9624-f1af46102a1f",
   "metadata": {},
   "source": [
    "                                                 assume user input"
   ]
  },
  {
   "cell_type": "code",
   "execution_count": 18,
   "id": "e3a22d4b-8d0a-4ff7-a4a2-b39f339c11f9",
   "metadata": {},
   "outputs": [],
   "source": [
    "test_input_2=np.array([2,\"male\",31.0,0,0,10.5,'S'],dtype=object).reshape(1,7)"
   ]
  },
  {
   "cell_type": "code",
   "execution_count": 24,
   "id": "911a6a8f-6fef-4b61-b804-37c66be5faad",
   "metadata": {},
   "outputs": [
    {
     "name": "stderr",
     "output_type": "stream",
     "text": [
      "/opt/anaconda3/lib/python3.12/site-packages/sklearn/base.py:493: UserWarning: X does not have valid feature names, but SimpleImputer was fitted with feature names\n",
      "  warnings.warn(\n",
      "/opt/anaconda3/lib/python3.12/site-packages/sklearn/base.py:493: UserWarning: X does not have valid feature names, but SimpleImputer was fitted with feature names\n",
      "  warnings.warn(\n"
     ]
    },
    {
     "data": {
      "text/plain": [
       "array([0])"
      ]
     },
     "execution_count": 24,
     "metadata": {},
     "output_type": "execute_result"
    }
   ],
   "source": [
    "pipe.predict(test_input_2)"
   ]
  },
  {
   "cell_type": "code",
   "execution_count": null,
   "id": "2892f78c-5e24-43a4-8201-2904632d067d",
   "metadata": {},
   "outputs": [],
   "source": []
  }
 ],
 "metadata": {
  "kernelspec": {
   "display_name": "Python 3 (ipykernel)",
   "language": "python",
   "name": "python3"
  },
  "language_info": {
   "codemirror_mode": {
    "name": "ipython",
    "version": 3
   },
   "file_extension": ".py",
   "mimetype": "text/x-python",
   "name": "python",
   "nbconvert_exporter": "python",
   "pygments_lexer": "ipython3",
   "version": "3.12.2"
  }
 },
 "nbformat": 4,
 "nbformat_minor": 5
}
